{
 "cells": [
  {
   "cell_type": "markdown",
   "metadata": {},
   "source": [
    "# Visualizing the data\n",
    "\n",
    "In this notebook we'll go over how to curate and visualize the data in a chart using `d3.js`\n",
    "\n",
    "First, we'll define a helper function for loading our CSV data."
   ]
  },
  {
   "cell_type": "code",
   "execution_count": 39,
   "metadata": {},
   "outputs": [
    {
     "name": "stdout",
     "output_type": "stream",
     "text": [
      "887\n",
      "[\n",
      "  \"Survived\",\n",
      "  \"Pclass\",\n",
      "  \"Name\",\n",
      "  \"Sex\",\n",
      "  \"Age\",\n",
      "  \"Siblings/Spouses Aboard\",\n",
      "  \"Parents/Children Aboard\",\n",
      "  \"Fare\"\n",
      "]\n"
     ]
    }
   ],
   "source": [
    "import dataForge from \"data-forge\";\n",
    "import \"data-forge-fs\";\n",
    "\n",
    "const loadCSV = (filePath: string) => {\n",
    "  const result = dataForge\n",
    "    .readFileSync(filePath) // Read input file.\n",
    "    .parseCSV()\n",
    "    .asJSON();\n",
    "  return (result as any).dataframe.content;\n",
    "};\n",
    "\n",
    "const csvData = loadCSV(\"/Users/bracesproul/Downloads/titanic.csv\");\n",
    "console.log(csvData.values.rows.length);\n",
    "console.log(csvData.values.columnNames);"
   ]
  },
  {
   "cell_type": "markdown",
   "metadata": {},
   "source": [
    "Then, we can pass it to a DataFrame from `data-forge`."
   ]
  },
  {
   "cell_type": "code",
   "execution_count": 40,
   "metadata": {},
   "outputs": [
    {
     "name": "stdout",
     "output_type": "stream",
     "text": [
      "887\n"
     ]
    }
   ],
   "source": [
    "import { DataFrame } from 'data-forge';\n",
    "\n",
    "const df = new DataFrame(csvData);\n",
    "console.log(df.content.values.rows.length);"
   ]
  },
  {
   "cell_type": "markdown",
   "metadata": {},
   "source": [
    "One issue with this data format is the column names are an array of strings, and the rows are stored in a 2d array with their indices corresponding to the indices of the column names. This makes it difficult to access the data in a way that is easy to understand. We'll convert the data to an array of objects where the keys are the column names and the values are the row values."
   ]
  },
  {
   "cell_type": "code",
   "execution_count": 41,
   "metadata": {},
   "outputs": [
    {
     "name": "stdout",
     "output_type": "stream",
     "text": [
      "{\n",
      "  Survived: \"0\",\n",
      "  Pclass: \"3\",\n",
      "  Name: \"Mr. Owen Harris Braund\",\n",
      "  Sex: \"male\",\n",
      "  Age: \"22\",\n",
      "  \"Siblings/Spouses Aboard\": \"1\",\n",
      "  \"Parents/Children Aboard\": \"0\",\n",
      "  Fare: \"7.25\"\n",
      "}\n"
     ]
    }
   ],
   "source": [
    "const data: Array<Record<string, string>> = [];\n",
    "const rows: Array<string[]> = df.content.values.rows;\n",
    "const columnNames = df.getColumnNames();\n",
    "\n",
    "// Calculate total survived and total count by class\n",
    "rows.forEach((row) => {\n",
    "  const rowData = columnNames.reduce((acc, col, idx) => {\n",
    "    acc[col] = row[idx];\n",
    "    return acc;\n",
    "  }, {});\n",
    "  data.push(rowData);\n",
    "});\n",
    "console.log(data[0]);"
   ]
  },
  {
   "cell_type": "markdown",
   "metadata": {},
   "source": [
    "Next, we'll use `d3.js` to construct a function for generating and displaying charts."
   ]
  },
  {
   "cell_type": "code",
   "execution_count": 42,
   "metadata": {},
   "outputs": [],
   "source": [
    "import * as d3 from \"d3\";\n",
    "import { createCanvas } from \"skia_canvas\";\n",
    "\n",
    "type SurvivalRate = {\n",
    "  label: string;\n",
    "  value: number;\n",
    "};\n",
    "\n",
    "const canvas = async (data: Array<SurvivalRate>) => {\n",
    "  // const data = input.data;\n",
    "  const width = 500;\n",
    "  const height = 500;\n",
    "  const margin = { top: 20, right: 30, bottom: 30, left: 40 };\n",
    "\n",
    "  const canvas = createCanvas(width, height);\n",
    "  const ctx = canvas.getContext(\"2d\");\n",
    "\n",
    "  const x = d3\n",
    "    .scaleBand()\n",
    "    .domain(data.map((d) => d.label))\n",
    "    .range([margin.left, width - margin.right])\n",
    "    .padding(0.1);\n",
    "\n",
    "  const y = d3\n",
    "    .scaleLinear()\n",
    "    .domain([0, d3.max(data, (d) => d.value)])\n",
    "    .nice()\n",
    "    .range([height - margin.bottom, margin.top]);\n",
    "\n",
    "  const colorPalette = [\n",
    "    \"#e6194B\",\n",
    "    \"#3cb44b\",\n",
    "    \"#ffe119\",\n",
    "    \"#4363d8\",\n",
    "    \"#f58231\",\n",
    "    \"#911eb4\",\n",
    "    \"#42d4f4\",\n",
    "    \"#f032e6\",\n",
    "    \"#bfef45\",\n",
    "    \"#fabebe\",\n",
    "  ];\n",
    "\n",
    "  data.forEach((d, idx) => {\n",
    "    ctx.fillStyle = colorPalette[idx % colorPalette.length];\n",
    "    ctx.fillRect(\n",
    "      x(d.label),\n",
    "       y(d.value),\n",
    "      x.bandwidth(),\n",
    "      height - margin.bottom - y(d.value),\n",
    "    );\n",
    "  });\n",
    "\n",
    "  ctx.beginPath();\n",
    "  ctx.strokeStyle = \"black\";\n",
    "  ctx.moveTo(margin.left, height - margin.bottom);\n",
    "  ctx.lineTo(width - margin.right, height - margin.bottom);\n",
    "  ctx.stroke();\n",
    "\n",
    "  ctx.textAlign = \"center\";\n",
    "  ctx.textBaseline = \"top\";\n",
    "  x.domain().forEach((d) => {\n",
    "    const xCoord = x(d) + x.bandwidth() / 2;\n",
    "    ctx.fillText(d, xCoord, height - margin.bottom + 6);\n",
    "  });\n",
    "\n",
    "  ctx.beginPath();\n",
    "  ctx.moveTo(margin.left, height - margin.top);\n",
    "  ctx.lineTo(margin.left, height - margin.bottom);\n",
    "  ctx.stroke();\n",
    "\n",
    "  ctx.textAlign = \"right\";\n",
    "  ctx.textBaseline = \"middle\";\n",
    "  const ticks = y.ticks();\n",
    "  ticks.forEach((d) => {\n",
    "    const yCoord = y(d); // height - margin.bottom - y(d);\n",
    "    ctx.moveTo(margin.left, yCoord);\n",
    "    ctx.lineTo(margin.left - 6, yCoord);\n",
    "    ctx.stroke();\n",
    "    ctx.fillText(d, margin.left - 8, yCoord);\n",
    "  });\n",
    "\n",
    "  await Deno.jupyter.display(canvas);\n",
    "};"
   ]
  },
  {
   "cell_type": "markdown",
   "metadata": {},
   "source": [
    "Now, using our dataframe we can calculate the survival rate for each class."
   ]
  },
  {
   "cell_type": "code",
   "execution_count": 43,
   "metadata": {},
   "outputs": [
    {
     "name": "stdout",
     "output_type": "stream",
     "text": [
      "[\n",
      "  { label: \"Class 1\", value: 0.6296296296296297 },\n",
      "  { label: \"Class 2\", value: 0.47282608695652173 },\n",
      "  { label: \"Class 3\", value: 0.24435318275154005 }\n",
      "]\n"
     ]
    }
   ],
   "source": [
    "const survivalSumByClass: { [key: string]: number } = {};\n",
    "const totalCountByClass: { [key: string]: number } = {};\n",
    "\n",
    "// Calculate total survived and total count by class\n",
    "data.forEach((row) => {\n",
    "  const pclass = row.Pclass;\n",
    "  if (!(pclass in survivalSumByClass)) {\n",
    "    survivalSumByClass[pclass] = 0;\n",
    "    totalCountByClass[pclass] = 0;\n",
    "  }\n",
    "  survivalSumByClass[pclass] += row.Survived === \"1\" ? 1 : 0;\n",
    "  totalCountByClass[pclass] += 1;\n",
    "});\n",
    "\n",
    "// Map to desired structure\n",
    "const survivalRates: SurvivalRate[] = Object.keys(survivalSumByClass).map((key) => {\n",
    "  const pclass = parseInt(key);\n",
    "  const survivalRate = survivalSumByClass[pclass] / totalCountByClass[pclass];\n",
    "  return {\n",
    "    label: `Class ${pclass}`,\n",
    "    value: survivalRate,\n",
    "  };\n",
    "});\n",
    "\n",
    "console.log(survivalRates);"
   ]
  },
  {
   "cell_type": "markdown",
   "metadata": {},
   "source": [
    "Now that we have our data on survival rates by class, we can pass it to our canvas to be displayed."
   ]
  },
  {
   "cell_type": "code",
   "execution_count": 44,
   "metadata": {},
   "outputs": [
    {
     "data": {
      "image/png": "[encoded data removed]"
     },
     "metadata": {},
     "output_type": "display_data"
    }
   ],
   "source": [
    "await canvas(survivalRates);"
   ]
  }
 ],
 "metadata": {
  "kernelspec": {
   "display_name": "Deno",
   "language": "typescript",
   "name": "deno"
  },
  "language_info": {
   "file_extension": ".ts",
   "mimetype": "text/x.typescript",
   "name": "typescript",
   "nb_converter": "script",
   "pygments_lexer": "typescript",
   "version": "5.3.3"
  }
 },
 "nbformat": 4,
 "nbformat_minor": 2
}
